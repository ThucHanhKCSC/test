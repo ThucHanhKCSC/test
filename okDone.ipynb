{
 "cells": [
  {
   "cell_type": "code",
   "execution_count": 1,
   "id": "95ab099d",
   "metadata": {},
   "outputs": [],
   "source": [
    "import pandas as pd\n",
    "import csv \n",
    "import keras\n",
    "from keras.layers import Input\n",
    "from keras.models import Model\n",
    "from keras.layers import Dense\n",
    "from keras.layers import Flatten\n",
    "from keras.layers.convolutional import Conv2D\n",
    "from keras.layers.pooling import MaxPooling2D\n",
    "from keras.layers.merge import concatenate\n",
    "from tensorflow.keras.utils import to_categorical\n",
    "from keras.callbacks import TensorBoard, Callback\n",
    "from sklearn.metrics import accuracy_score, precision_score, recall_score, f1_score, classification_report, confusion_matrix\n",
    "import matplotlib.pyplot as plt\n",
    "import numpy as np\n",
    "import time"
   ]
  },
  {
   "cell_type": "code",
   "execution_count": 2,
   "id": "b2845e76",
   "metadata": {},
   "outputs": [],
   "source": [
    "np.set_printoptions(precision=3, suppress=True)"
   ]
  },
  {
   "cell_type": "code",
   "execution_count": 3,
   "id": "046d89ed",
   "metadata": {},
   "outputs": [],
   "source": [
    "PER_range = 878\n",
    "PER_range_raw = PER_range\n",
    "\n",
    "API_range = 1879\n",
    "API_range_raw = API_range\n",
    "\n",
    "loopcount = 1"
   ]
  },
  {
   "cell_type": "code",
   "execution_count": 4,
   "id": "53a0be3a",
   "metadata": {},
   "outputs": [
    {
     "name": "stdout",
     "output_type": "stream",
     "text": [
      "           0    1    2    3    4    5    6    7    8    9  ...  1869  1870  \\\n",
      "0        0.0  1.0  1.0  0.0  0.0  0.0  0.0  0.0  0.0  0.0  ...   0.0   0.0   \n",
      "1        0.0  1.0  1.0  1.0  1.0  0.0  0.0  0.0  0.0  0.0  ...   1.0   1.0   \n",
      "2        0.0  1.0  1.0  0.0  0.0  0.0  0.0  0.0  0.0  0.0  ...   0.0   0.0   \n",
      "3        0.0  1.0  1.0  0.0  1.0  1.0  0.0  0.0  0.0  0.0  ...   1.0   1.0   \n",
      "4        0.0  1.0  1.0  0.0  1.0  1.0  1.0  0.0  0.0  0.0  ...   1.0   1.0   \n",
      "...      ...  ...  ...  ...  ...  ...  ...  ...  ...  ...  ...   ...   ...   \n",
      "21405  225.0  1.0  1.0  1.0  1.0  1.0  1.0  1.0  1.0  0.0  ...   1.0   0.0   \n",
      "21406  225.0  1.0  1.0  1.0  1.0  0.0  0.0  0.0  1.0  0.0  ...   1.0   0.0   \n",
      "21407  225.0  1.0  1.0  1.0  1.0  0.0  1.0  1.0  1.0  0.0  ...   0.0   1.0   \n",
      "21408  226.0  1.0  1.0  1.0  1.0  0.0  1.0  1.0  1.0  0.0  ...   0.0   0.0   \n",
      "21409  226.0  1.0  1.0  1.0  1.0  1.0  1.0  1.0  1.0  1.0  ...   0.0   0.0   \n",
      "\n",
      "       1871  1872  1873  1874  1875  1876  1877  1878  \n",
      "0       0.0   0.0   0.0   0.0   0.0   0.0   0.0   0.0  \n",
      "1       1.0   1.0   1.0   0.0   0.0   0.0   0.0   1.0  \n",
      "2       0.0   0.0   0.0   0.0   0.0   0.0   0.0   0.0  \n",
      "3       1.0   0.0   1.0   1.0   1.0   1.0   1.0   1.0  \n",
      "4       1.0   0.0   1.0   1.0   1.0   1.0   1.0   0.0  \n",
      "...     ...   ...   ...   ...   ...   ...   ...   ...  \n",
      "21405   0.0   0.0   1.0   0.0   0.0   0.0   0.0   0.0  \n",
      "21406   0.0   0.0   1.0   0.0   0.0   0.0   0.0   0.0  \n",
      "21407   1.0   0.0   0.0   1.0   1.0   0.0   1.0   1.0  \n",
      "21408   0.0   0.0   0.0   0.0   0.0   0.0   0.0   0.0  \n",
      "21409   0.0   0.0   0.0   0.0   0.0   0.0   0.0   0.0  \n",
      "\n",
      "[21410 rows x 1879 columns]\n"
     ]
    }
   ],
   "source": [
    "train_df = pd.read_csv(r\"TaiLieu/train-0.csv\")\n",
    "val_df   = pd.read_csv(r\"TaiLieu/file-0.csv\")#, header=None, skiprows=1).sample(frac=1)\n",
    "test_df  = pd.read_csv(r\"TaiLieu/file-1.csv\")#, header=None, skiprows=1).sample(frac=1)\n",
    "\n",
    "print(train_df)"
   ]
  },
  {
   "cell_type": "code",
   "execution_count": 5,
   "id": "258080a2",
   "metadata": {},
   "outputs": [],
   "source": [
    "class Metrics(Callback):\n",
    "    def __init__(self, x, y):\n",
    "        self.x = x\n",
    "        self.y = y if (y.ndim == 1 or y.shape[1] == 1) else np.argmax(y, axis=1)\n",
    "        self.reports = []\n",
    "\n",
    "    def on_epoch_end(self, epoch, logs={}):\n",
    "        y_hat = np.asarray(self.model.predict(self.x))\n",
    "        y_hat = np.where(y_hat > 0.5, 1, 0) if (y_hat.ndim == 1 or y_hat.shape[1] == 1)  else np.argmax(y_hat, axis=1)\n",
    "        report = classification_report(self.y,y_hat,output_dict=True)\n",
    "        self.reports.append(report)\n",
    "        return\n",
    "   \n",
    "    # Utility method\n",
    "    def get(self, metrics, of_class):\n",
    "        return [report[str(of_class)][metrics] for report in self.reports]\n",
    "\n"
   ]
  },
  {
   "cell_type": "code",
   "execution_count": 6,
   "id": "e8e0839e",
   "metadata": {},
   "outputs": [],
   "source": [
    "def readData(JMP_STEP):\n",
    "\n",
    "\tglobal PER_range, API_range, loopcount\n",
    "\n",
    "\tPER_range_use = PER_range\n",
    "\tAPI_range_use = API_range\n",
    "\n",
    "\tPER_range_use -= JMP_STEP * loopcount\n",
    "\tAPI_range_use -= JMP_STEP * loopcount\n",
    "\n",
    "\tloopcount += 1\n",
    "\ttry:\n",
    "\t\ttrain_df_2 = train_df.drop([str(i) for i in range(PER_range_use, PER_range)], axis = 1)\n",
    "\t\ttrain_df_2 = train_df_2.drop([str(i) for i in range(API_range_use, API_range)], axis = 1)\n",
    "\t\t#print((train_df_2))\n",
    "\t\tval_df_2 = val_df.drop([str(i) for i in range(PER_range_use, PER_range)], axis = 1)\n",
    "\t\tval_df_2 = val_df_2.drop([str(i) for i in range(API_range_use, API_range)], axis = 1)\n",
    "\n",
    "\t\ttest_df_2 = test_df.drop([str(i) for i in range(PER_range_use, PER_range)], axis = 1)\n",
    "\t\ttest_df_2 = test_df_2.drop([str(i) for i in range(API_range_use, API_range)], axis = 1)\n",
    "\t\t#print(train_df_2)\n",
    "\n",
    "\t\ttrain_y = np.array(train_df_2.iloc[:, 0]) #lấy cột 0 là cột nhãn \n",
    "\t\ttrain_x = np.array(train_df_2.iloc[:,1:]) #lấy cột 1 làm đặc trưng\n",
    "\t\tunique, counts = np.unique(train_y, return_counts=True)\n",
    "\t\t#print(\"LABEL TRAIN: \", len(unique))\n",
    "\n",
    "\t\tval_y = np.array(val_df_2.iloc[:, 0]) #lấy cột 0 là cột nhãn \n",
    "\t\tval_x = np.array(val_df_2.iloc[:,1:]) #lấy cột 1 làm đặc trưng\n",
    "\t\tunique_v, counts_ = np.unique(val_y, return_counts=True)\n",
    "\t\t#print(\"LABEL VAL: \", len(unique_v))\n",
    "\n",
    "\t\ttest_y = np.array(test_df_2.iloc[:, 0]) #lấy cột 0 là cột nhãn \n",
    "\t\ttest_x = np.array(test_df_2.iloc[:,1:]) #lấy cột 1 làm đặc trưng\n",
    "\t\tunique_t, counts_t = np.unique(test_y, return_counts=True)\n",
    "\t\t#print(\"LABEL TEST: \", len(unique_t))\n",
    "\n",
    "\t\tSIZE = (len(train_df_2.columns) - 1)\n",
    "\n",
    "\t\tBATCH_SIZE = 32\n",
    "\t#SIZE = API_range_use - 1 - JMP_STEP*2\n",
    "\t\tSIZE2= 1\n",
    "\t\tN_CLASSES = 228\n",
    "\t\tLR = 0.001\n",
    "\t\tN_EPOCHS = 1\n",
    "\n",
    "\t\t#print(train_x.shape,train_y.shape)\n",
    "\t\t#print(val_x.shape,val_y.shape)\n",
    "\t\t#print(test_x.shape,test_y.shape)\n",
    "\n",
    "\t\ttrain_x = train_x.reshape(train_x.shape[0], SIZE2, SIZE, 1)\n",
    "\n",
    "\t\tval_x = val_x.reshape(val_x.shape[0], SIZE2, SIZE, 1)\n",
    "\t\ttest_x = test_x.reshape(test_x.shape[0], SIZE2, SIZE, 1)\n",
    "\n",
    "\t\tLABELS = np.unique(train_y)\n",
    "\t\toriginal_test_y = test_y\n",
    "\n",
    "\t\ttrain_y = to_categorical(train_y, N_CLASSES)\n",
    "\t\tval_y = to_categorical(val_y, N_CLASSES)\n",
    "\t\ttest_y = to_categorical(test_y, N_CLASSES)\n",
    "\n",
    "\t\t#print(LABELS)\n",
    "\n",
    "\n",
    "\n",
    "\t\tinput0 = Input(shape=(SIZE2,SIZE,1))\n",
    "\t\tconv1 = Conv2D(32, kernel_size=2, activation='relu', padding=\"same\" ,input_shape=(SIZE2, SIZE, 1))(input0)\n",
    "\t\tpool1 = MaxPooling2D((1, 2), padding = 'same')(conv1)\n",
    "\t\tconv2 = Conv2D(32, kernel_size=2, activation='relu', padding=\"same\")(pool1)\n",
    "\t\tpool2 = MaxPooling2D((1, 2), padding = 'same')(conv2)\n",
    "\n",
    "\t\tconv3 = Conv2D(64, kernel_size=2, activation='relu', padding=\"same\")(pool2)\n",
    "\t\tpool3 = MaxPooling2D((1, 2), padding = 'same')(conv3)\n",
    "\t\t'''\n",
    "\t\t#conv4 = Conv2D(64, kernel_size=2, activation='relu', padding=\"same\")(pool3)\n",
    "\t\t#pool4 = MaxPooling2D((2, 2), padding = 'same')(conv4)\n",
    "\t\t'''\n",
    "\t\tflatten_per = Flatten()(pool3)\n",
    "\n",
    "\t\thidden1 = Dense(1024, activation='relu')(flatten_per)\n",
    "\t\toutput = Dense(N_CLASSES, activation='softmax')(hidden1)\n",
    "\n",
    "\t\tmodel = Model(inputs=input0, outputs=output)\n",
    "\t\tmodel.compile(loss='categorical_crossentropy', optimizer='adam', metrics=['accuracy'])\n",
    "\n",
    "\t\tmetrics_multiclass = Metrics(train_x, train_y)\n",
    "\t\thistory = model.fit(train_x, train_y, epochs=N_EPOCHS, batch_size = BATCH_SIZE ,validation_data=(val_x, val_y), callbacks=[metrics_multiclass])\n",
    "\texcept Exception as exc:\n",
    "\t\traise exc\n"
   ]
  },
  {
   "cell_type": "code",
   "execution_count": 8,
   "id": "57fcf45e",
   "metadata": {},
   "outputs": [],
   "source": [
    "i = 1\n",
    "JMP_STEP = 200\n"
   ]
  },
  {
   "cell_type": "code",
   "execution_count": 9,
   "id": "f67c999c",
   "metadata": {},
   "outputs": [
    {
     "name": "stdout",
     "output_type": "stream",
     "text": [
      "lan loop thu  1\n",
      "PER_range =  878\n",
      "API_range =  1879\n",
      "670/670 [==============================] - 217s 320ms/step - loss: 0.4544 - accuracy: 0.8956 - val_loss: 0.1354 - val_accuracy: 0.9661\n"
     ]
    },
    {
     "name": "stderr",
     "output_type": "stream",
     "text": [
      "C:\\Users\\Echidna\\AppData\\Local\\Programs\\Python\\Python39\\lib\\site-packages\\sklearn\\metrics\\_classification.py:1318: UndefinedMetricWarning: Precision and F-score are ill-defined and being set to 0.0 in labels with no predicted samples. Use `zero_division` parameter to control this behavior.\n",
      "  _warn_prf(average, modifier, msg_start, len(result))\n",
      "C:\\Users\\Echidna\\AppData\\Local\\Programs\\Python\\Python39\\lib\\site-packages\\sklearn\\metrics\\_classification.py:1318: UndefinedMetricWarning: Precision and F-score are ill-defined and being set to 0.0 in labels with no predicted samples. Use `zero_division` parameter to control this behavior.\n",
      "  _warn_prf(average, modifier, msg_start, len(result))\n",
      "C:\\Users\\Echidna\\AppData\\Local\\Programs\\Python\\Python39\\lib\\site-packages\\sklearn\\metrics\\_classification.py:1318: UndefinedMetricWarning: Precision and F-score are ill-defined and being set to 0.0 in labels with no predicted samples. Use `zero_division` parameter to control this behavior.\n",
      "  _warn_prf(average, modifier, msg_start, len(result))\n"
     ]
    },
    {
     "name": "stdout",
     "output_type": "stream",
     "text": [
      "Thoi gian chay:  219.39 s\n",
      "lan loop thu  2\n",
      "PER_range =  678\n",
      "API_range =  1679\n",
      "670/670 [==============================] - 138s 205ms/step - loss: 0.4833 - accuracy: 0.8854 - val_loss: 0.1375 - val_accuracy: 0.9653\n"
     ]
    },
    {
     "name": "stderr",
     "output_type": "stream",
     "text": [
      "C:\\Users\\Echidna\\AppData\\Local\\Programs\\Python\\Python39\\lib\\site-packages\\sklearn\\metrics\\_classification.py:1318: UndefinedMetricWarning: Precision and F-score are ill-defined and being set to 0.0 in labels with no predicted samples. Use `zero_division` parameter to control this behavior.\n",
      "  _warn_prf(average, modifier, msg_start, len(result))\n",
      "C:\\Users\\Echidna\\AppData\\Local\\Programs\\Python\\Python39\\lib\\site-packages\\sklearn\\metrics\\_classification.py:1318: UndefinedMetricWarning: Precision and F-score are ill-defined and being set to 0.0 in labels with no predicted samples. Use `zero_division` parameter to control this behavior.\n",
      "  _warn_prf(average, modifier, msg_start, len(result))\n",
      "C:\\Users\\Echidna\\AppData\\Local\\Programs\\Python\\Python39\\lib\\site-packages\\sklearn\\metrics\\_classification.py:1318: UndefinedMetricWarning: Precision and F-score are ill-defined and being set to 0.0 in labels with no predicted samples. Use `zero_division` parameter to control this behavior.\n",
      "  _warn_prf(average, modifier, msg_start, len(result))\n"
     ]
    },
    {
     "name": "stdout",
     "output_type": "stream",
     "text": [
      "Thoi gian chay:  139.12 s\n",
      "lan loop thu  3\n",
      "PER_range =  478\n",
      "API_range =  1479\n",
      "670/670 [==============================] - 83s 124ms/step - loss: 0.5259 - accuracy: 0.8765 - val_loss: 0.1310 - val_accuracy: 0.9702\n"
     ]
    },
    {
     "name": "stderr",
     "output_type": "stream",
     "text": [
      "C:\\Users\\Echidna\\AppData\\Local\\Programs\\Python\\Python39\\lib\\site-packages\\sklearn\\metrics\\_classification.py:1318: UndefinedMetricWarning: Precision and F-score are ill-defined and being set to 0.0 in labels with no predicted samples. Use `zero_division` parameter to control this behavior.\n",
      "  _warn_prf(average, modifier, msg_start, len(result))\n",
      "C:\\Users\\Echidna\\AppData\\Local\\Programs\\Python\\Python39\\lib\\site-packages\\sklearn\\metrics\\_classification.py:1318: UndefinedMetricWarning: Precision and F-score are ill-defined and being set to 0.0 in labels with no predicted samples. Use `zero_division` parameter to control this behavior.\n",
      "  _warn_prf(average, modifier, msg_start, len(result))\n",
      "C:\\Users\\Echidna\\AppData\\Local\\Programs\\Python\\Python39\\lib\\site-packages\\sklearn\\metrics\\_classification.py:1318: UndefinedMetricWarning: Precision and F-score are ill-defined and being set to 0.0 in labels with no predicted samples. Use `zero_division` parameter to control this behavior.\n",
      "  _warn_prf(average, modifier, msg_start, len(result))\n"
     ]
    },
    {
     "name": "stdout",
     "output_type": "stream",
     "text": [
      "Thoi gian chay:  83.75 s\n",
      "lan loop thu  4\n",
      "PER_range =  278\n",
      "API_range =  1279\n",
      "670/670 [==============================] - 28s 41ms/step - loss: 0.6815 - accuracy: 0.8293 - val_loss: 0.2182 - val_accuracy: 0.9336\n",
      "Thoi gian chay:  27.94 s\n"
     ]
    },
    {
     "name": "stderr",
     "output_type": "stream",
     "text": [
      "C:\\Users\\Echidna\\AppData\\Local\\Programs\\Python\\Python39\\lib\\site-packages\\sklearn\\metrics\\_classification.py:1318: UndefinedMetricWarning: Precision and F-score are ill-defined and being set to 0.0 in labels with no predicted samples. Use `zero_division` parameter to control this behavior.\n",
      "  _warn_prf(average, modifier, msg_start, len(result))\n",
      "C:\\Users\\Echidna\\AppData\\Local\\Programs\\Python\\Python39\\lib\\site-packages\\sklearn\\metrics\\_classification.py:1318: UndefinedMetricWarning: Precision and F-score are ill-defined and being set to 0.0 in labels with no predicted samples. Use `zero_division` parameter to control this behavior.\n",
      "  _warn_prf(average, modifier, msg_start, len(result))\n",
      "C:\\Users\\Echidna\\AppData\\Local\\Programs\\Python\\Python39\\lib\\site-packages\\sklearn\\metrics\\_classification.py:1318: UndefinedMetricWarning: Precision and F-score are ill-defined and being set to 0.0 in labels with no predicted samples. Use `zero_division` parameter to control this behavior.\n",
      "  _warn_prf(average, modifier, msg_start, len(result))\n"
     ]
    }
   ],
   "source": [
    "while(PER_range_raw > 100):\n",
    "\tif(PER_range_raw > 100):\n",
    "\t\tprint(\"lan loop thu \", i)\n",
    "\t\ti += 1\n",
    "\t\tprint(\"PER_range = \", PER_range_raw)\n",
    "\t\tprint(\"API_range = \", API_range_raw)\n",
    "\t\tfirst = time.time()\n",
    "\t\treadData(JMP_STEP)\n",
    "\t\tsecond = time.time()\n",
    "\t\tprint(\"Thoi gian chay: \", round(second - first, 2), \"s\")\n",
    "\t\n",
    "\tPER_range_raw -= JMP_STEP\n",
    "\tAPI_range_raw -= JMP_STEP\n",
    "\n"
   ]
  },
  {
   "cell_type": "code",
   "execution_count": 10,
   "id": "c6c8f5fd",
   "metadata": {},
   "outputs": [
    {
     "name": "stdout",
     "output_type": "stream",
     "text": [
      "Done\n"
     ]
    }
   ],
   "source": [
    "print(\"Done\")"
   ]
  },
  {
   "cell_type": "code",
   "execution_count": null,
   "id": "cb264bbe",
   "metadata": {},
   "outputs": [],
   "source": []
  }
 ],
 "metadata": {
  "kernelspec": {
   "display_name": "Python 3 (ipykernel)",
   "language": "python",
   "name": "python3"
  },
  "language_info": {
   "codemirror_mode": {
    "name": "ipython",
    "version": 3
   },
   "file_extension": ".py",
   "mimetype": "text/x-python",
   "name": "python",
   "nbconvert_exporter": "python",
   "pygments_lexer": "ipython3",
   "version": "3.9.10"
  }
 },
 "nbformat": 4,
 "nbformat_minor": 5
}
